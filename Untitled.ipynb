{
 "cells": [
  {
   "cell_type": "code",
   "execution_count": null,
   "metadata": {
    "collapsed": true
   },
   "outputs": [],
   "source": [
    "from bs4 import BeautifulSoup\n",
    "\n",
    "def lyrics_from_song_api_path(song_api_path):\n",
    "    \n",
    "    song_url = base_url + song_api_path.encode('utf-8')\n",
    "    response = requests.get(song_url, headers=headers)\n",
    "    json = response.json()\n",
    "    path = json[\"response\"][\"song\"][\"path\"]\n",
    "    \n",
    "      #gotta go regular html scraping... come on Genius\n",
    "    page_url = \"https://genius.com\" + path\n",
    "    page = requests.get(page_url)\n",
    "    html = BeautifulSoup(page.text, \"html.parser\")\n",
    "    #remove script tags that they put in the middle of the lyrics\n",
    "    #import pdb; pdb.set_trace(); \n",
    "    [h.extract() for h in html('script')]\n",
    "    #at least Genius is nice and has a tag called 'lyrics'!\n",
    "    #import pdb; pdb.set_trace()\n",
    "    lyrics = html.find(attrs={\"class\": \"lyrics\"}).get_text()\n",
    "    title = html.find(\"title\").get_text()\n",
    "    #import pdb; pdb.set_trace()\n",
    "    return [title, lyrics"
   ]
  }
 ],
 "metadata": {
  "kernelspec": {
   "display_name": "Python 3",
   "language": "python",
   "name": "python3"
  },
  "language_info": {
   "codemirror_mode": {
    "name": "ipython",
    "version": 3
   },
   "file_extension": ".py",
   "mimetype": "text/x-python",
   "name": "python",
   "nbconvert_exporter": "python",
   "pygments_lexer": "ipython3",
   "version": "3.6.1"
  }
 },
 "nbformat": 4,
 "nbformat_minor": 2
}
